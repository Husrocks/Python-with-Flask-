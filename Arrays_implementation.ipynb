{
 "cells": [
  {
   "cell_type": "code",
   "execution_count": 10,
   "id": "c34bdfa4-dcc0-484f-a80f-9e885305f6a9",
   "metadata": {},
   "outputs": [
    {
     "name": "stdout",
     "output_type": "stream",
     "text": [
      "[10, 20, 30, 40]\n",
      "[0]\n",
      "[1]\n",
      "[-1]\n"
     ]
    }
   ],
   "source": [
    "# Defining and declaration of array\n",
    "arr = [10,20,30,40]\n",
    "print(arr)\n",
    "#accessing the array elements \n",
    "print([0])\n",
    "print ([1])\n",
    "print([-1]) #negative indexing \n"
   ]
  },
  {
   "cell_type": "code",
   "execution_count": 11,
   "id": "1f15b481-355a-4de6-95fa-d46002740977",
   "metadata": {},
   "outputs": [
    {
     "name": "stdout",
     "output_type": "stream",
     "text": [
      "['Toyota', 'Hyundai', 'Porche', 'Audi', 'BMW']\n",
      "5\n",
      "['Toyota', 'Hyundai', 'Porche', 'Audi', 'BMW', 'Lamborghini']\n",
      "['Toyota', 'Hyundai', 'Porche', 'Audi', 'BMW', 'Lamborghini', 'Lamborghini', 'Supra', 'Tesla']\n"
     ]
    }
   ],
   "source": [
    "Car_brands = [ \"Toyota\" , \"Hyundai\" , \"Porche\" , \"Audi\" , \"BMW\"]\n",
    "print(Car_brands)\n",
    "#len function to find the length of array\n",
    "num_brands= len(Car_brands)\n",
    "print (num_brands)\n",
    "\n",
    "#addition of elemetns to array using append()\n",
    "Car_brands.append(\"Lamborghini\")\n",
    "print(Car_brands)\n",
    "\n",
    "#Use extend() to add multiple elements at once:\n",
    "Car_brands.extend([\"Lamborghini\", \"Supra\" , \"Tesla\"])\n",
    "print(Car_brands)\n",
    "\n"
   ]
  },
  {
   "cell_type": "code",
   "execution_count": 16,
   "id": "a54d71d4-85ce-47ad-be13-5d2e21910139",
   "metadata": {},
   "outputs": [
    {
     "name": "stdout",
     "output_type": "stream",
     "text": [
      "['hp', 'dell', 'lenovo', 'acer', 'toshiba']\n",
      "['hp', 'lenovo', 'acer', 'toshiba']\n",
      "['lenovo', 'acer', 'toshiba']\n",
      "['acer', 'toshiba']\n"
     ]
    }
   ],
   "source": [
    "#Remove elements from array\n",
    "laptops = [\"hp\" , \"dell\" , \"lenovo\" , \"acer\" , \"toshiba\"]\n",
    "print(laptops)\n",
    "#del\n",
    "#Deletes an element by index or slices or entire list.\n",
    "#Does not return the removed element.\n",
    "#Can also be used to delete variables.\n",
    "del laptops[1]\n",
    "print(laptops)\n",
    "#remove() Removes the first occurrence of a specified value.\n",
    "#If the value is not found, it raises a ValueError.\n",
    "laptops.remove(\"hp\")\n",
    "print(laptops)\n",
    "#pop() Removes an element by index and returns the removed element.\n",
    "#If no index is specified, it removes the last element.\n",
    "#Causes an IndexError if the index is out of range.\n",
    "laptops.pop(0)\n",
    "print(laptops)\n",
    "\n"
   ]
  },
  {
   "cell_type": "code",
   "execution_count": 18,
   "id": "3eafe2fc-7928-40e4-96d2-d2e28172f3fd",
   "metadata": {},
   "outputs": [
    {
     "name": "stdout",
     "output_type": "stream",
     "text": [
      "['Toyota', 'Honda', 'Porche', 'Audi', 'BMW']\n",
      "['Toyota', 'Honda', 'Porche', 'Hyundai', 'BMW']\n"
     ]
    }
   ],
   "source": [
    "#Modification of elements\n",
    "cars = [ \"Toyota\" , \"Hyundai\" , \"Porche\" , \"Audi\" , \"BMW\"]\n",
    "cars[1]= \"Honda\"\n",
    "print(cars)\n",
    "cars[-2] = \"Hyundai\"\n",
    "print(cars)\n",
    "\n",
    "\n"
   ]
  },
  {
   "cell_type": "code",
   "execution_count": 22,
   "id": "589b3ab8-c3d8-4e34-965f-980ae6223c1b",
   "metadata": {},
   "outputs": [
    {
     "name": "stdout",
     "output_type": "stream",
     "text": [
      "[1, 2, 3]\n",
      "[1, 2, 3, 4, 5, 6]\n"
     ]
    }
   ],
   "source": [
    "#Concatination of arrays\n",
    "arr= [1, 2, 3]\n",
    "print (arr)\n",
    "\n",
    "arr = arr + [4, 5, 6]\n",
    "print(arr)\n"
   ]
  },
  {
   "cell_type": "code",
   "execution_count": 30,
   "id": "a61c2548-21c3-4edd-8203-cfadbd6e37da",
   "metadata": {},
   "outputs": [
    {
     "name": "stdout",
     "output_type": "stream",
     "text": [
      "[1, 2, 3]\n",
      "[1]\n",
      "[1, 1, 1, 1, 1, 1, 1, 1]\n",
      "['Toyota', 'Hyundai', 'Porche', 'Audi', 'BMW']\n",
      "['Audi']\n",
      "['Audi', 'Audi', 'Audi', 'Audi', 'Audi', 'Audi', 'Audi', 'Audi']\n"
     ]
    }
   ],
   "source": [
    "#repeating elements in array\n",
    "arr= [1, 2, 3]\n",
    "print (arr)\n",
    "arr = [1]\n",
    "print (arr)\n",
    "arr = arr * 8\n",
    "print(arr)\n",
    "\n",
    "repeat = [ \"Toyota\" , \"Hyundai\" , \"Porche\" , \"Audi\" , \"BMW\"]\n",
    "print (repeat)\n",
    "repeat = [\"Audi\"]\n",
    "print (repeat)\n",
    "repeat = repeat * 8\n",
    "print(repeat)\n"
   ]
  },
  {
   "cell_type": "code",
   "execution_count": 35,
   "id": "c6445b52-45f7-42d5-95b0-7666a1f47282",
   "metadata": {},
   "outputs": [
    {
     "name": "stdout",
     "output_type": "stream",
     "text": [
      "Hyundai\n",
      "['Hyundai', 'Porche', 'Audi', 'BMW']\n",
      "['Toyota']\n",
      "['Toyota', 'Hyundai', 'Porche', 'Audi', 'BMW']\n",
      "['Porche', 'Audi']\n"
     ]
    }
   ],
   "source": [
    "#slicing of arrays\n",
    "cars = [ \"Toyota\" , \"Hyundai\" , \"Porche\" , \"Audi\" , \"BMW\"]\n",
    "print(cars[1])\n",
    "print(cars[1:])\n",
    "print(cars[:1])\n",
    "print(cars[:5])\n",
    "print(cars[-3:-1])"
   ]
  },
  {
   "cell_type": "code",
   "execution_count": 39,
   "id": "ba9d9843-5b03-403a-b6f1-1802e41862b7",
   "metadata": {},
   "outputs": [
    {
     "name": "stdout",
     "output_type": "stream",
     "text": [
      "[1, 2]\n",
      "[3, 4]\n",
      "2\n"
     ]
    }
   ],
   "source": [
    "#Declaration of multiple arrays \n",
    "multi = [ [1,2] , [3,4]]\n",
    "print(multi[0])\n",
    "print(multi[1])\n",
    "print(multi[0][1])\n",
    "\n"
   ]
  },
  {
   "cell_type": "code",
   "execution_count": null,
   "id": "c7877fa3-37e8-47a4-8310-319d12e9a488",
   "metadata": {},
   "outputs": [],
   "source": []
  }
 ],
 "metadata": {
  "kernelspec": {
   "display_name": "Python 3 (ipykernel)",
   "language": "python",
   "name": "python3"
  },
  "language_info": {
   "codemirror_mode": {
    "name": "ipython",
    "version": 3
   },
   "file_extension": ".py",
   "mimetype": "text/x-python",
   "name": "python",
   "nbconvert_exporter": "python",
   "pygments_lexer": "ipython3",
   "version": "3.12.7"
  }
 },
 "nbformat": 4,
 "nbformat_minor": 5
}
