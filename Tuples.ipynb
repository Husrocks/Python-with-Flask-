{
 "cells": [
  {
   "cell_type": "code",
   "execution_count": 9,
   "id": "94209bd2-66cb-420d-a883-541d6ab207b5",
   "metadata": {},
   "outputs": [
    {
     "name": "stdout",
     "output_type": "stream",
     "text": [
      "()\n",
      "(1, 2, 3)\n",
      "(100, 'Hussnain', 230.1)\n"
     ]
    }
   ],
   "source": [
    "#creating an empty tuple \n",
    "tuple1 = ()\n",
    "print (tuple1)\n",
    "tuple2 = (1, 2, 3)\n",
    "print(tuple2)\n",
    "tuple3 = (100 , \"Hussnain\" , 230.1)\n",
    "print(tuple3)\n"
   ]
  },
  {
   "cell_type": "code",
   "execution_count": 21,
   "id": "1ba66a91-88d9-48c6-b3ae-f3a01448b3ec",
   "metadata": {},
   "outputs": [
    {
     "name": "stdout",
     "output_type": "stream",
     "text": [
      "('points', [1, 4, 3], (7, 8, 9))\n",
      "(101, 'Hus-Rocks', 2033.0, 'CS Dept')\n",
      "101\n",
      "2033.0\n",
      "CS Dept\n",
      "Hus-Rocks\n"
     ]
    }
   ],
   "source": [
    "tuple4 = (\"points\" , [1,4,3] , (7 , 8 , 9))\n",
    "print(tuple4)\n",
    "tuple5  = 101 , \"Hus-Rocks\" , 2033.00 , \"CS Dept\"\n",
    "print(tuple5)\n",
    "#unpacking tuple\n",
    "stdid , stdname , stdmrks , stddpt = tuple5\n",
    "print(stdid)\n",
    "print(stdmrks)\n",
    "print(stddpt)\n",
    "print(stdname)"
   ]
  },
  {
   "cell_type": "code",
   "execution_count": 37,
   "id": "b0880620-236b-4eaa-b39b-eb25f95379ab",
   "metadata": {},
   "outputs": [
    {
     "name": "stdout",
     "output_type": "stream",
     "text": [
      "('a', 'i', 'o', 'u')\n",
      "i\n",
      "('a', 'i')\n"
     ]
    }
   ],
   "source": [
    "#accessing elemnts in tuple \n",
    "tuple1 = ('a','i','o','u')\n",
    "print(tuple1)\n",
    "print(tuple1[1])\n",
    "print(tuple1[:2])"
   ]
  },
  {
   "cell_type": "code",
   "execution_count": 41,
   "id": "fec5553c-654b-4198-8a07-bf63eb2014e0",
   "metadata": {},
   "outputs": [
    {
     "name": "stdout",
     "output_type": "stream",
     "text": [
      "('point', [1, 3, 4], (7, 8, 9))\n",
      "o\n"
     ]
    }
   ],
   "source": [
    "#Nested tuple\n",
    "nest_tuple = (\"point\" , [1,3,4] , (7,8,9))\n",
    "print(nest_tuple)\n",
    "print(nest_tuple [0][1]) # first index for tuple and the other for in the tuple"
   ]
  },
  {
   "cell_type": "code",
   "execution_count": 47,
   "id": "e95e4c03-91a7-4809-b9df-5055a714956d",
   "metadata": {},
   "outputs": [
    {
     "name": "stdout",
     "output_type": "stream",
     "text": [
      "('hi', 'salam')\n",
      "('hello', 'hi', 'salam', 'welcome')\n",
      "('welcome',)\n"
     ]
    }
   ],
   "source": [
    "#slicing of tuples\n",
    "greeting = ('hello' , 'hi' , 'salam', 'welcome')\n",
    "print(greeting[1:3])\n",
    "print(greeting[:])\n",
    "print(greeting[3:])"
   ]
  },
  {
   "cell_type": "code",
   "execution_count": 55,
   "id": "2ed384db-ed0d-4317-8a74-5d989d207317",
   "metadata": {},
   "outputs": [
    {
     "name": "stdout",
     "output_type": "stream",
     "text": [
      "('w', 'e', 'l', 'c', 'o', 'm', 'e')\n",
      "('g', 'o', 'o', 'g', 'l', 'e')\n"
     ]
    }
   ],
   "source": [
    "#tuple elemetns are immutable\n",
    "tuple1 = ( 'w' , 'e','l','c','o','m','e')\n",
    "print (tuple1)\n",
    "#tuple1[2] = 'x' error bcz tuple cannot be change\n",
    "tuple1 = ('g','o','o','g','l','e')\n",
    "print(tuple1)"
   ]
  },
  {
   "cell_type": "code",
   "execution_count": 59,
   "id": "a2608786-eaf2-473a-a7e8-ee55ad5d668b",
   "metadata": {},
   "outputs": [
    {
     "name": "stdout",
     "output_type": "stream",
     "text": [
      "('w', 'e', 'l', 'c', 'o', 'm', 'e', 'g', 'o', 'o', 'g', 'l', 'e')\n",
      "('w', 'e', 'l', 'c', 'o', 'm', 'e', 'w', 'e', 'l', 'c', 'o', 'm', 'e')\n"
     ]
    }
   ],
   "source": [
    "#concatination of tuples\n",
    "tuple1 = ( 'w' , 'e','l','c','o','m','e')\n",
    "tuple2 = ('g','o','o','g','l','e')\n",
    "print (tuple1 + tuple2)\n",
    "print (tuple1 * 2)"
   ]
  },
  {
   "cell_type": "code",
   "execution_count": 13,
   "id": "a35145c8-1329-48db-86c7-88f49827fcee",
   "metadata": {},
   "outputs": [
    {
     "name": "stdout",
     "output_type": "stream",
     "text": [
      "('w', 'e', 'l', 'c', 'o', 'm', 'e')\n"
     ]
    }
   ],
   "source": [
    "#deletion operation on a tuple \n",
    "tuple1 = ( 'w' , 'e','l','c','o','m','e')\n",
    "#del tuple1[2]\n",
    "del tuple1\n",
    "print (tuple1)\n"
   ]
  },
  {
   "cell_type": "code",
   "execution_count": 17,
   "id": "2820f5d3-97e7-48b0-b8b2-ce27730f6bbc",
   "metadata": {},
   "outputs": [
    {
     "name": "stdout",
     "output_type": "stream",
     "text": [
      "1\n",
      "5\n"
     ]
    }
   ],
   "source": [
    "#tuple methods \n",
    "tuple1 = ( 'w' , 'e','l','c','o','m','e')\n",
    "print(tuple1.count('m'))\n",
    "print(tuple1.index('m'))"
   ]
  },
  {
   "cell_type": "code",
   "execution_count": 23,
   "id": "e5525ad1-6668-45ef-9e90-87eaa1374b45",
   "metadata": {},
   "outputs": [
    {
     "name": "stdout",
     "output_type": "stream",
     "text": [
      "('w', 'e', 'l', 'c', 'o', 'm', 'e')\n",
      "True\n",
      "False\n"
     ]
    }
   ],
   "source": [
    "#tuple operations\n",
    "tuple1 = ( 'w' , 'e','l','c','o','m','e')\n",
    "print (tuple1)\n",
    "print ('m' in tuple1)\n",
    "print ('m' not in tuple1)"
   ]
  },
  {
   "cell_type": "code",
   "execution_count": 31,
   "id": "c1d37b12-1691-4738-b3d2-ce8ea0a6311d",
   "metadata": {},
   "outputs": [
    {
     "name": "stdout",
     "output_type": "stream",
     "text": [
      "(99, 33, 45, 55, 566, 24567, 764, 245, 7886, 3445, 9)\n",
      "24567\n",
      "9\n",
      "[9, 33, 45, 55, 99, 245, 566, 764, 3445, 7886, 24567]\n",
      "11\n"
     ]
    }
   ],
   "source": [
    "#built in functiona\n",
    "tuple1 = ( 99 ,33,45,55,566,24567,764,245,7886,3445,9)\n",
    "print(tuple1)\n",
    "print(max(tuple1))\n",
    "print(min(tuple1))\n",
    "print(sorted(tuple1))\n",
    "print(len(tuple1))"
   ]
  },
  {
   "cell_type": "code",
   "execution_count": null,
   "id": "7756cf15-f407-40d5-8968-9f4771530d21",
   "metadata": {},
   "outputs": [],
   "source": []
  }
 ],
 "metadata": {
  "kernelspec": {
   "display_name": "Python 3 (ipykernel)",
   "language": "python",
   "name": "python3"
  },
  "language_info": {
   "codemirror_mode": {
    "name": "ipython",
    "version": 3
   },
   "file_extension": ".py",
   "mimetype": "text/x-python",
   "name": "python",
   "nbconvert_exporter": "python",
   "pygments_lexer": "ipython3",
   "version": "3.12.7"
  }
 },
 "nbformat": 4,
 "nbformat_minor": 5
}
