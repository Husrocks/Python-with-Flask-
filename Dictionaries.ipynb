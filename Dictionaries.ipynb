{
  "nbformat": 4,
  "nbformat_minor": 0,
  "metadata": {
    "colab": {
      "provenance": []
    },
    "kernelspec": {
      "name": "python3",
      "display_name": "Python 3"
    },
    "language_info": {
      "name": "python"
    }
  },
  "cells": [
    {
      "cell_type": "code",
      "source": [
        "# Creating a dictionary for a student\n",
        "student = {\n",
        "    \"name\": \"Hussnain\",\n",
        "    \"age\": 20,\n",
        "    \"major\": \"Computer Science\",\n",
        "    \"grades\": {\"Math\": 90, \"Science\": 85, \"English\": 88}\n",
        "}\n",
        "\n",
        "# Accessing values\n",
        "print(\"Name:\", student[\"name\"])\n",
        "print(\"Major:\", student.get(\"major\"))\n",
        "\n",
        "# Adding a new key-value pair\n",
        "student[\"GPA\"] = 3.8\n",
        "\n",
        "# Updating a value\n",
        "student[\"age\"] = 23\n",
        "\n",
        "# Removing a key\n",
        "student.pop(\"major\")\n",
        "\n",
        "# Looping through dictionary\n",
        "for key, value in student.items():\n",
        "    print(f\"{key}: {value}\")\n"
      ],
      "metadata": {
        "colab": {
          "base_uri": "https://localhost:8080/"
        },
        "id": "ry_2hFfeOJ2I",
        "outputId": "e9b0f201-6734-49be-b011-1a1fc5d59e8f"
      },
      "execution_count": 7,
      "outputs": [
        {
          "output_type": "stream",
          "name": "stdout",
          "text": [
            "Name: Hussnain\n",
            "Major: Computer Science\n",
            "name: Hussnain\n",
            "age: 23\n",
            "grades: {'Math': 90, 'Science': 85, 'English': 88}\n",
            "GPA: 3.8\n"
          ]
        }
      ]
    },
    {
      "cell_type": "code",
      "execution_count": 1,
      "metadata": {
        "id": "uiYBvebxNBMx"
      },
      "outputs": [],
      "source": [
        "my_dict = {\n",
        "    \"name\": \"Hussnian\",\n",
        "    \"age\": 20,\n",
        "    \"city\": \"London\"\n",
        "}"
      ]
    },
    {
      "cell_type": "code",
      "source": [
        "name = my_dict[\"name\"]  # name will be \"Hussnian\""
      ],
      "metadata": {
        "id": "jt0Yo-n9NjT1"
      },
      "execution_count": 2,
      "outputs": []
    },
    {
      "cell_type": "code",
      "source": [
        "my_dict[\"occupation\"] = \"Engineer\""
      ],
      "metadata": {
        "id": "7nxSgUzPNuZf"
      },
      "execution_count": 3,
      "outputs": []
    },
    {
      "cell_type": "code",
      "source": [
        "my_dict[\"age\"] = 31"
      ],
      "metadata": {
        "id": "rluIYLjMNu6C"
      },
      "execution_count": 4,
      "outputs": []
    },
    {
      "cell_type": "code",
      "source": [
        "del my_dict[\"city\"]"
      ],
      "metadata": {
        "id": "vBYjTYJvNyBS"
      },
      "execution_count": 5,
      "outputs": []
    },
    {
      "cell_type": "code",
      "source": [
        "print(my_dict)"
      ],
      "metadata": {
        "colab": {
          "base_uri": "https://localhost:8080/"
        },
        "id": "CPYWiB6gN0Qk",
        "outputId": "cb5b7f3c-017f-4282-ffa5-9cde06613495"
      },
      "execution_count": 6,
      "outputs": [
        {
          "output_type": "stream",
          "name": "stdout",
          "text": [
            "{'name': 'Hussnian', 'age': 31, 'occupation': 'Engineer'}\n"
          ]
        }
      ]
    },
    {
      "cell_type": "code",
      "source": [],
      "metadata": {
        "id": "1Z3BN2XkN53F"
      },
      "execution_count": null,
      "outputs": []
    }
  ]
}