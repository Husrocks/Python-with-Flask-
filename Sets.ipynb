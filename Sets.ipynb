{
  "nbformat": 4,
  "nbformat_minor": 0,
  "metadata": {
    "colab": {
      "provenance": []
    },
    "kernelspec": {
      "name": "python3",
      "display_name": "Python 3"
    },
    "language_info": {
      "name": "python"
    }
  },
  "cells": [
    {
      "cell_type": "markdown",
      "source": [
        "Characteristics of Sets\n",
        "Unordered: The elements in a set do not have a fixed position.\n",
        "Unique Elements: A set automatically removes duplicate values.\n",
        "Mutable: You can add or remove elements.\n",
        "Unindexed: Elements cannot be accessed using an index."
      ],
      "metadata": {
        "id": "hoZj4hGMIaVa"
      }
    },
    {
      "cell_type": "code",
      "execution_count": 2,
      "metadata": {
        "colab": {
          "base_uri": "https://localhost:8080/"
        },
        "id": "zCITS_03IN7x",
        "outputId": "7ac7e7aa-82d2-4fe6-dcb9-945d3dc48ebb"
      },
      "outputs": [
        {
          "output_type": "stream",
          "name": "stdout",
          "text": [
            "{1, 2, 3, 4, 5}\n"
          ]
        }
      ],
      "source": [
        "my_set = {1,2,2,3,3,4,5}\n",
        "print(my_set)"
      ]
    },
    {
      "cell_type": "code",
      "source": [
        "my_set.add(9)\n",
        "print(my_set)"
      ],
      "metadata": {
        "colab": {
          "base_uri": "https://localhost:8080/"
        },
        "id": "VpBs4bj-ItZy",
        "outputId": "ca95d5fe-3ed7-48cd-f53e-1c858cb2dee1"
      },
      "execution_count": 3,
      "outputs": [
        {
          "output_type": "stream",
          "name": "stdout",
          "text": [
            "{1, 2, 3, 4, 5, 9}\n"
          ]
        }
      ]
    },
    {
      "cell_type": "code",
      "source": [
        "my_set.remove(9)\n",
        "print(my_set)"
      ],
      "metadata": {
        "colab": {
          "base_uri": "https://localhost:8080/"
        },
        "id": "33QzeC77I6LY",
        "outputId": "a7af9ff7-0b59-4959-a5aa-15d2fee7abea"
      },
      "execution_count": 4,
      "outputs": [
        {
          "output_type": "stream",
          "name": "stdout",
          "text": [
            "{1, 2, 3, 4, 5}\n"
          ]
        }
      ]
    },
    {
      "cell_type": "code",
      "source": [
        "my_set.discard(9)\n",
        "print(my_set)"
      ],
      "metadata": {
        "colab": {
          "base_uri": "https://localhost:8080/"
        },
        "id": "5_3CVAuNJCba",
        "outputId": "d6c68ca5-5c05-4c3f-902f-1fc9ef29c031"
      },
      "execution_count": 5,
      "outputs": [
        {
          "output_type": "stream",
          "name": "stdout",
          "text": [
            "{1, 2, 3, 4, 5}\n"
          ]
        }
      ]
    },
    {
      "cell_type": "code",
      "source": [
        "\n",
        "removed_element = my_set.pop()\n",
        "print(removed_element)\n",
        "print(my_set)\n"
      ],
      "metadata": {
        "colab": {
          "base_uri": "https://localhost:8080/"
        },
        "id": "GYS5v0Y8JMO2",
        "outputId": "e63dd964-b6ab-4841-9356-e6dfaa169607"
      },
      "execution_count": 6,
      "outputs": [
        {
          "output_type": "stream",
          "name": "stdout",
          "text": [
            "1\n",
            "{2, 3, 4, 5}\n"
          ]
        }
      ]
    },
    {
      "cell_type": "code",
      "source": [
        "my_set.clear()\n",
        "print(my_set)"
      ],
      "metadata": {
        "colab": {
          "base_uri": "https://localhost:8080/"
        },
        "id": "QoWOE5ehJYaU",
        "outputId": "1d21c468-e92d-470f-cf89-984bd9e347e6"
      },
      "execution_count": 8,
      "outputs": [
        {
          "output_type": "stream",
          "name": "stdout",
          "text": [
            "set()\n"
          ]
        }
      ]
    },
    {
      "cell_type": "code",
      "source": [
        "set1 = {1, 2, 3}\n",
        "set2 = {3, 4, 5}\n",
        "new_set = set1.union(set2)\n",
        "print(new_set)\n"
      ],
      "metadata": {
        "colab": {
          "base_uri": "https://localhost:8080/"
        },
        "id": "88m4ccK8JcAU",
        "outputId": "5d442331-03f3-4edc-c20a-bc870cd50e7d"
      },
      "execution_count": 10,
      "outputs": [
        {
          "output_type": "stream",
          "name": "stdout",
          "text": [
            "{1, 2, 3, 4, 5}\n"
          ]
        }
      ]
    },
    {
      "cell_type": "code",
      "source": [
        "set1 = {1, 2, 3}\n",
        "set2 = {2, 3, 4}\n",
        "common = set1.intersection(set2)\n",
        "print(common)\n"
      ],
      "metadata": {
        "colab": {
          "base_uri": "https://localhost:8080/"
        },
        "id": "IlggOz5_JgNa",
        "outputId": "3a699baa-9030-40fd-abeb-377427542cc7"
      },
      "execution_count": 11,
      "outputs": [
        {
          "output_type": "stream",
          "name": "stdout",
          "text": [
            "{2, 3}\n"
          ]
        }
      ]
    },
    {
      "cell_type": "code",
      "source": [
        "set1 = {1, 2, 3, 4}\n",
        "set2 = {3, 4, 5}\n",
        "diff = set1.difference(set2)\n",
        "print(diff)\n"
      ],
      "metadata": {
        "colab": {
          "base_uri": "https://localhost:8080/"
        },
        "id": "c5JGRWRVJg_e",
        "outputId": "b4252f57-9a48-4357-a659-e36234ca500a"
      },
      "execution_count": 12,
      "outputs": [
        {
          "output_type": "stream",
          "name": "stdout",
          "text": [
            "{1, 2}\n"
          ]
        }
      ]
    },
    {
      "cell_type": "code",
      "source": [
        "set1 = {1, 2, 3 , 0}\n",
        "set2 = {3, 4,0,5}\n",
        "sym_diff = set1.symmetric_difference(set2)\n",
        "print(sym_diff)\n"
      ],
      "metadata": {
        "colab": {
          "base_uri": "https://localhost:8080/"
        },
        "id": "gTup13--JjyX",
        "outputId": "df5c2841-fcf1-47e1-968e-3fa827aedc5b"
      },
      "execution_count": 16,
      "outputs": [
        {
          "output_type": "stream",
          "name": "stdout",
          "text": [
            "{1, 2, 4, 5}\n"
          ]
        }
      ]
    },
    {
      "cell_type": "code",
      "source": [
        "set1 = {1, 2, 3}\n",
        "set2 = {1, 2, 3, 4, 5} #if all the elements of a set in another sts\n",
        "print(set1.issubset(set2))  # True\n",
        "print(set2.issubset(set1))  # False\n"
      ],
      "metadata": {
        "colab": {
          "base_uri": "https://localhost:8080/"
        },
        "id": "Ni3wZQSzJtmC",
        "outputId": "2eca4139-7c9f-4a78-df36-17a4ae3080b2"
      },
      "execution_count": 17,
      "outputs": [
        {
          "output_type": "stream",
          "name": "stdout",
          "text": [
            "True\n",
            "False\n"
          ]
        }
      ]
    },
    {
      "cell_type": "code",
      "source": [],
      "metadata": {
        "id": "IWKdsJD3KGJ4"
      },
      "execution_count": null,
      "outputs": []
    },
    {
      "cell_type": "code",
      "source": [
        "set1 = {1, 2, 3, 4, 5} #Checks if a set contains all elements of another.\n",
        "set2 = {1, 2, 3}\n",
        "print(set1.issuperset(set2))  # True\n",
        "print(set2.issuperset(set1))  # False\n"
      ],
      "metadata": {
        "colab": {
          "base_uri": "https://localhost:8080/"
        },
        "id": "uX8iSD_qJ5AW",
        "outputId": "ac9fa8ce-e723-407d-cfce-fb45c77ff7bb"
      },
      "execution_count": 18,
      "outputs": [
        {
          "output_type": "stream",
          "name": "stdout",
          "text": [
            "True\n",
            "False\n"
          ]
        }
      ]
    },
    {
      "cell_type": "code",
      "source": [
        "set1 = {1, 2, 3} #Returns True if sets have no common elements.\n",
        "set2 = {4, 5, 6}\n",
        "print(set1.isdisjoint(set2))  # True\n"
      ],
      "metadata": {
        "colab": {
          "base_uri": "https://localhost:8080/"
        },
        "id": "Hb556hGkKEOO",
        "outputId": "41b3e7b7-4576-4489-9d32-77b5f9ce5ffe"
      },
      "execution_count": 20,
      "outputs": [
        {
          "output_type": "stream",
          "name": "stdout",
          "text": [
            "True\n"
          ]
        }
      ]
    },
    {
      "cell_type": "code",
      "source": [],
      "metadata": {
        "id": "-Ikiik8BKMP8"
      },
      "execution_count": null,
      "outputs": []
    }
  ]
}